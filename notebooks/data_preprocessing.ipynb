{
 "cells": [
  {
   "cell_type": "code",
   "execution_count": 63,
   "metadata": {},
   "outputs": [],
   "source": [
    "import pandas as pd\n",
    "import matplotlib.pyplot as plt\n",
    "import os\n",
    "import datetime"
   ]
  },
  {
   "cell_type": "code",
   "execution_count": 64,
   "metadata": {},
   "outputs": [
    {
     "name": "stdout",
     "output_type": "stream",
     "text": [
      "<class 'pandas.core.frame.DataFrame'>\n",
      "RangeIndex: 5083 entries, 0 to 5082\n",
      "Data columns (total 7 columns):\n",
      " #   Column   Non-Null Count  Dtype  \n",
      "---  ------   --------------  -----  \n",
      " 0   Date     5083 non-null   object \n",
      " 1   Open     5083 non-null   float64\n",
      " 2   High     5083 non-null   float64\n",
      " 3   Low      5083 non-null   float64\n",
      " 4   Close    5083 non-null   float64\n",
      " 5   Volume   5083 non-null   int64  \n",
      " 6   item_id  5083 non-null   object \n",
      "dtypes: float64(4), int64(1), object(2)\n",
      "memory usage: 278.1+ KB\n"
     ]
    }
   ],
   "source": [
    "ticker = \"AAPL\"\n",
    "data_path = f\"../data/raw/{ticker}_data.csv\"\n",
    "\n",
    "data = pd.read_csv(data_path)\n",
    "data.info()"
   ]
  },
  {
   "cell_type": "markdown",
   "metadata": {},
   "source": [
    "## Pre-Processing the Time Series"
   ]
  },
  {
   "cell_type": "markdown",
   "metadata": {},
   "source": [
    "#### Requirements for Amazon Chronos:\n",
    "- No missing values.\n",
    "- Normalized features.\n",
    "- Time-based features (lags, moving averages, seasonality).\n",
    "- Consistent datetime format."
   ]
  },
  {
   "cell_type": "code",
   "execution_count": 65,
   "metadata": {},
   "outputs": [
    {
     "name": "stdout",
     "output_type": "stream",
     "text": [
      "✅ The data has no missing values.\n"
     ]
    }
   ],
   "source": [
    "def check_for_missing_values(data):\n",
    "    missing_values = data.isnull().sum() \n",
    "    total_missing = missing_values.sum() \n",
    "\n",
    "    if total_missing > 0:\n",
    "        print(\"❌ The dataset has missing values:\\n\")\n",
    "        print(missing_values[missing_values > 0])\n",
    "    else:\n",
    "        print(\"✅ The data has no missing values.\")\n",
    "\n",
    "\n",
    "check_for_missing_values(data)"
   ]
  },
  {
   "cell_type": "code",
   "execution_count": 66,
   "metadata": {},
   "outputs": [
    {
     "name": "stdout",
     "output_type": "stream",
     "text": [
      "<class 'pandas.core.frame.DataFrame'>\n",
      "RangeIndex: 5083 entries, 0 to 5082\n",
      "Data columns (total 7 columns):\n",
      " #   Column   Non-Null Count  Dtype  \n",
      "---  ------   --------------  -----  \n",
      " 0   Date     5083 non-null   object \n",
      " 1   Open     5083 non-null   float64\n",
      " 2   High     5083 non-null   float64\n",
      " 3   Low      5083 non-null   float64\n",
      " 4   Close    5083 non-null   float64\n",
      " 5   Volume   5083 non-null   float64\n",
      " 6   item_id  5083 non-null   object \n",
      "dtypes: float64(5), object(2)\n",
      "memory usage: 278.1+ KB\n"
     ]
    }
   ],
   "source": [
    "from sklearn.preprocessing import MinMaxScaler\n",
    "\n",
    "def normalize_data(data):\n",
    "    scaler = MinMaxScaler()\n",
    "\n",
    "    data[[\"Open\", \"High\", \"Low\", \"Close\", \"Volume\"]] = scaler.fit_transform(\n",
    "        data[[\"Open\", \"High\", \"Low\", \"Close\", \"Volume\"]]\n",
    "    )\n",
    "    \n",
    "    return data\n",
    "\n",
    "data_normalized = normalize_data(data)\n",
    "data_normalized.info()"
   ]
  },
  {
   "cell_type": "code",
   "execution_count": 67,
   "metadata": {},
   "outputs": [
    {
     "name": "stdout",
     "output_type": "stream",
     "text": [
      "<class 'pandas.core.frame.DataFrame'>\n",
      "RangeIndex: 5083 entries, 0 to 5082\n",
      "Data columns (total 7 columns):\n",
      " #   Column     Non-Null Count  Dtype  \n",
      "---  ------     --------------  -----  \n",
      " 0   item_id    5083 non-null   object \n",
      " 1   timestamp  5083 non-null   object \n",
      " 2   target     5083 non-null   float64\n",
      " 3   Open       5083 non-null   float64\n",
      " 4   High       5083 non-null   float64\n",
      " 5   Low        5083 non-null   float64\n",
      " 6   Volume     5083 non-null   float64\n",
      "dtypes: float64(5), object(2)\n",
      "memory usage: 278.1+ KB\n"
     ]
    }
   ],
   "source": [
    "def convert_to_chronos_format(data):\n",
    "    # First id and timestamp, then the additional covariates\n",
    "    chronos_data = data[[\"item_id\", \"Date\", \"Close\", \"Open\", \"High\", \"Low\", \"Volume\"]]\n",
    "    chronos_data.rename(columns={\"Date\": \"timestamp\", \"Close\": \"target\"}, inplace=True)\n",
    "\n",
    "    return chronos_data\n",
    "\n",
    "#-------#\n",
    "chronos_data = convert_to_chronos_format(data_normalized)\n",
    "chronos_data.info()"
   ]
  }
 ],
 "metadata": {
  "kernelspec": {
   "display_name": "eosl",
   "language": "python",
   "name": "python3"
  },
  "language_info": {
   "codemirror_mode": {
    "name": "ipython",
    "version": 3
   },
   "file_extension": ".py",
   "mimetype": "text/x-python",
   "name": "python",
   "nbconvert_exporter": "python",
   "pygments_lexer": "ipython3",
   "version": "3.11.11"
  }
 },
 "nbformat": 4,
 "nbformat_minor": 2
}
